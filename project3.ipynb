{
  "nbformat": 4,
  "nbformat_minor": 0,
  "metadata": {
    "colab": {
      "provenance": []
    },
    "kernelspec": {
      "name": "python3",
      "display_name": "Python 3"
    },
    "language_info": {
      "name": "python"
    }
  },
  "cells": [
    {
      "cell_type": "code",
      "execution_count": 5,
      "metadata": {
        "colab": {
          "base_uri": "https://localhost:8080/"
        },
        "id": "J7xgE9cWp4s_",
        "outputId": "9517a59d-2d68-4aba-c701-98a79ecc4230"
      },
      "outputs": [
        {
          "output_type": "stream",
          "name": "stderr",
          "text": [
            "<ipython-input-5-128f50fdf07e>:18: MatplotlibDeprecationWarning: The seaborn styles shipped by Matplotlib are deprecated since 3.6, as they no longer correspond to the styles shipped by seaborn. However, they will remain available as 'seaborn-v0_8-<style>'. Alternatively, directly use the seaborn API instead.\n",
            "  plt.style.use('seaborn-white')\n"
          ]
        }
      ],
      "source": [
        "from IPython.core.interactiveshell import InteractiveShell\n",
        "InteractiveShell.ast_node_interactivity = \"all\"\n",
        "import pandas as pd\n",
        "import numpy as np\n",
        "import matplotlib.pyplot as plt\n",
        "import matplotlib.axis as axis\n",
        "\n",
        "from mpl_toolkits.mplot3d import axes3d\n",
        "import seaborn as sns\n",
        "\n",
        "from sklearn.preprocessing import scale\n",
        "import sklearn.linear_model as skl_lm\n",
        "from sklearn.metrics import mean_squared_error, r2_score\n",
        "import statsmodels.api as sm\n",
        "import statsmodels.formula.api as smf\n",
        "\n",
        "sns.set(font_scale=1.25)\n",
        "plt.style.use('seaborn-white')"
      ]
    },
    {
      "cell_type": "code",
      "source": [
        "from traitlets.traitlets import Float\n",
        "url1 = '/content/sample_data/data/PNL.csv'\n",
        "url2 = '/content/sample_data/data/STD.csv'\n",
        "url3 = '/content/sample_data/data/Vol.csv'\n",
        "url4 = '/content/sample_data/data/PnV.csv'\n",
        "pnl_df = pd.read_csv(url1).drop([\"Unnamed: 0\", \"PNL_normalized\"], axis=1)\n",
        "pnl_df.rename(columns={'PNL-mean': 'PNL'}, inplace=True)\n",
        "\n",
        "data_df = pd.read_csv(url2).drop([\"Unnamed: 0\"], axis=1)\n",
        "\n",
        "vol_df = pd.read_csv(url3)\n",
        "vol_df.rename(columns={'Open': 'Open_Vol'}, inplace=True)\n",
        "vol_df.rename(columns={'Change %': 'Perc_Change_Vol'}, inplace=True)\n",
        "vol_df['Perc_Change_Vol'] = vol_df['Perc_Change_Vol'].str.rstrip('%').astype(float)\n",
        "vol_df.drop(['Price', 'High','Low'], axis=1, inplace=True)\n",
        "\n",
        "pnv_df = pd.read_csv(url4)\n",
        "pnv_df['Range'] = (pnv_df['High'] - pnv_df['Low']).abs()\n",
        "pnv_df.drop(columns=['High', 'Low', 'Last', 'Open','Change'], inplace=True)\n",
        "pnv_df.rename(columns={'%Chg': 'Perc_Change_Price'}, inplace=True)\n",
        "pnv_df.rename(columns={'Open Int': 'Open_Int'}, inplace=True)\n",
        "pnv_df['Perc_Change_Price'] = pnv_df['Perc_Change_Price'].str.rstrip('%').astype(float)\n",
        "\n",
        "\n",
        "pnv_df"
      ],
      "metadata": {
        "colab": {
          "base_uri": "https://localhost:8080/",
          "height": 424
        },
        "id": "F8sqQ8pUqJXi",
        "outputId": "98217288-4b24-4075-9913-959f8ec439fb"
      },
      "execution_count": 6,
      "outputs": [
        {
          "output_type": "execute_result",
          "data": {
            "text/plain": [
              "           Date  Perc_Change_Price   Volume  Open_Int  Range\n",
              "0    2023-05-01              -1.46   443900   1886091   2.16\n",
              "1    2023-04-28               2.70   704355   1881769   2.99\n",
              "2    2023-04-27               0.62   784946   1880445   1.25\n",
              "3    2023-04-26              -3.59  1084446   1862150   3.88\n",
              "4    2023-04-25              -2.15   784520   1826195   2.57\n",
              "..          ...                ...      ...       ...    ...\n",
              "328  2022-01-07              -0.36   979709   1918425   1.03\n",
              "329  2022-01-06               0.78  1170432   1913391   1.99\n",
              "330  2022-01-05              -0.06   989697   1901975   1.22\n",
              "331  2022-01-04               1.38   852063   1887131   1.37\n",
              "332  2022-01-03               1.83   612605   1886114   1.80\n",
              "\n",
              "[333 rows x 5 columns]"
            ],
            "text/html": [
              "\n",
              "  <div id=\"df-5242784a-6adf-4700-8de4-2282a9dbf2b1\">\n",
              "    <div class=\"colab-df-container\">\n",
              "      <div>\n",
              "<style scoped>\n",
              "    .dataframe tbody tr th:only-of-type {\n",
              "        vertical-align: middle;\n",
              "    }\n",
              "\n",
              "    .dataframe tbody tr th {\n",
              "        vertical-align: top;\n",
              "    }\n",
              "\n",
              "    .dataframe thead th {\n",
              "        text-align: right;\n",
              "    }\n",
              "</style>\n",
              "<table border=\"1\" class=\"dataframe\">\n",
              "  <thead>\n",
              "    <tr style=\"text-align: right;\">\n",
              "      <th></th>\n",
              "      <th>Date</th>\n",
              "      <th>Perc_Change_Price</th>\n",
              "      <th>Volume</th>\n",
              "      <th>Open_Int</th>\n",
              "      <th>Range</th>\n",
              "    </tr>\n",
              "  </thead>\n",
              "  <tbody>\n",
              "    <tr>\n",
              "      <th>0</th>\n",
              "      <td>2023-05-01</td>\n",
              "      <td>-1.46</td>\n",
              "      <td>443900</td>\n",
              "      <td>1886091</td>\n",
              "      <td>2.16</td>\n",
              "    </tr>\n",
              "    <tr>\n",
              "      <th>1</th>\n",
              "      <td>2023-04-28</td>\n",
              "      <td>2.70</td>\n",
              "      <td>704355</td>\n",
              "      <td>1881769</td>\n",
              "      <td>2.99</td>\n",
              "    </tr>\n",
              "    <tr>\n",
              "      <th>2</th>\n",
              "      <td>2023-04-27</td>\n",
              "      <td>0.62</td>\n",
              "      <td>784946</td>\n",
              "      <td>1880445</td>\n",
              "      <td>1.25</td>\n",
              "    </tr>\n",
              "    <tr>\n",
              "      <th>3</th>\n",
              "      <td>2023-04-26</td>\n",
              "      <td>-3.59</td>\n",
              "      <td>1084446</td>\n",
              "      <td>1862150</td>\n",
              "      <td>3.88</td>\n",
              "    </tr>\n",
              "    <tr>\n",
              "      <th>4</th>\n",
              "      <td>2023-04-25</td>\n",
              "      <td>-2.15</td>\n",
              "      <td>784520</td>\n",
              "      <td>1826195</td>\n",
              "      <td>2.57</td>\n",
              "    </tr>\n",
              "    <tr>\n",
              "      <th>...</th>\n",
              "      <td>...</td>\n",
              "      <td>...</td>\n",
              "      <td>...</td>\n",
              "      <td>...</td>\n",
              "      <td>...</td>\n",
              "    </tr>\n",
              "    <tr>\n",
              "      <th>328</th>\n",
              "      <td>2022-01-07</td>\n",
              "      <td>-0.36</td>\n",
              "      <td>979709</td>\n",
              "      <td>1918425</td>\n",
              "      <td>1.03</td>\n",
              "    </tr>\n",
              "    <tr>\n",
              "      <th>329</th>\n",
              "      <td>2022-01-06</td>\n",
              "      <td>0.78</td>\n",
              "      <td>1170432</td>\n",
              "      <td>1913391</td>\n",
              "      <td>1.99</td>\n",
              "    </tr>\n",
              "    <tr>\n",
              "      <th>330</th>\n",
              "      <td>2022-01-05</td>\n",
              "      <td>-0.06</td>\n",
              "      <td>989697</td>\n",
              "      <td>1901975</td>\n",
              "      <td>1.22</td>\n",
              "    </tr>\n",
              "    <tr>\n",
              "      <th>331</th>\n",
              "      <td>2022-01-04</td>\n",
              "      <td>1.38</td>\n",
              "      <td>852063</td>\n",
              "      <td>1887131</td>\n",
              "      <td>1.37</td>\n",
              "    </tr>\n",
              "    <tr>\n",
              "      <th>332</th>\n",
              "      <td>2022-01-03</td>\n",
              "      <td>1.83</td>\n",
              "      <td>612605</td>\n",
              "      <td>1886114</td>\n",
              "      <td>1.80</td>\n",
              "    </tr>\n",
              "  </tbody>\n",
              "</table>\n",
              "<p>333 rows × 5 columns</p>\n",
              "</div>\n",
              "      <button class=\"colab-df-convert\" onclick=\"convertToInteractive('df-5242784a-6adf-4700-8de4-2282a9dbf2b1')\"\n",
              "              title=\"Convert this dataframe to an interactive table.\"\n",
              "              style=\"display:none;\">\n",
              "        \n",
              "  <svg xmlns=\"http://www.w3.org/2000/svg\" height=\"24px\"viewBox=\"0 0 24 24\"\n",
              "       width=\"24px\">\n",
              "    <path d=\"M0 0h24v24H0V0z\" fill=\"none\"/>\n",
              "    <path d=\"M18.56 5.44l.94 2.06.94-2.06 2.06-.94-2.06-.94-.94-2.06-.94 2.06-2.06.94zm-11 1L8.5 8.5l.94-2.06 2.06-.94-2.06-.94L8.5 2.5l-.94 2.06-2.06.94zm10 10l.94 2.06.94-2.06 2.06-.94-2.06-.94-.94-2.06-.94 2.06-2.06.94z\"/><path d=\"M17.41 7.96l-1.37-1.37c-.4-.4-.92-.59-1.43-.59-.52 0-1.04.2-1.43.59L10.3 9.45l-7.72 7.72c-.78.78-.78 2.05 0 2.83L4 21.41c.39.39.9.59 1.41.59.51 0 1.02-.2 1.41-.59l7.78-7.78 2.81-2.81c.8-.78.8-2.07 0-2.86zM5.41 20L4 18.59l7.72-7.72 1.47 1.35L5.41 20z\"/>\n",
              "  </svg>\n",
              "      </button>\n",
              "      \n",
              "  <style>\n",
              "    .colab-df-container {\n",
              "      display:flex;\n",
              "      flex-wrap:wrap;\n",
              "      gap: 12px;\n",
              "    }\n",
              "\n",
              "    .colab-df-convert {\n",
              "      background-color: #E8F0FE;\n",
              "      border: none;\n",
              "      border-radius: 50%;\n",
              "      cursor: pointer;\n",
              "      display: none;\n",
              "      fill: #1967D2;\n",
              "      height: 32px;\n",
              "      padding: 0 0 0 0;\n",
              "      width: 32px;\n",
              "    }\n",
              "\n",
              "    .colab-df-convert:hover {\n",
              "      background-color: #E2EBFA;\n",
              "      box-shadow: 0px 1px 2px rgba(60, 64, 67, 0.3), 0px 1px 3px 1px rgba(60, 64, 67, 0.15);\n",
              "      fill: #174EA6;\n",
              "    }\n",
              "\n",
              "    [theme=dark] .colab-df-convert {\n",
              "      background-color: #3B4455;\n",
              "      fill: #D2E3FC;\n",
              "    }\n",
              "\n",
              "    [theme=dark] .colab-df-convert:hover {\n",
              "      background-color: #434B5C;\n",
              "      box-shadow: 0px 1px 3px 1px rgba(0, 0, 0, 0.15);\n",
              "      filter: drop-shadow(0px 1px 2px rgba(0, 0, 0, 0.3));\n",
              "      fill: #FFFFFF;\n",
              "    }\n",
              "  </style>\n",
              "\n",
              "      <script>\n",
              "        const buttonEl =\n",
              "          document.querySelector('#df-5242784a-6adf-4700-8de4-2282a9dbf2b1 button.colab-df-convert');\n",
              "        buttonEl.style.display =\n",
              "          google.colab.kernel.accessAllowed ? 'block' : 'none';\n",
              "\n",
              "        async function convertToInteractive(key) {\n",
              "          const element = document.querySelector('#df-5242784a-6adf-4700-8de4-2282a9dbf2b1');\n",
              "          const dataTable =\n",
              "            await google.colab.kernel.invokeFunction('convertToInteractive',\n",
              "                                                     [key], {});\n",
              "          if (!dataTable) return;\n",
              "\n",
              "          const docLinkHtml = 'Like what you see? Visit the ' +\n",
              "            '<a target=\"_blank\" href=https://colab.research.google.com/notebooks/data_table.ipynb>data table notebook</a>'\n",
              "            + ' to learn more about interactive tables.';\n",
              "          element.innerHTML = '';\n",
              "          dataTable['output_type'] = 'display_data';\n",
              "          await google.colab.output.renderOutput(dataTable, element);\n",
              "          const docLink = document.createElement('div');\n",
              "          docLink.innerHTML = docLinkHtml;\n",
              "          element.appendChild(docLink);\n",
              "        }\n",
              "      </script>\n",
              "    </div>\n",
              "  </div>\n",
              "  "
            ]
          },
          "metadata": {},
          "execution_count": 6
        }
      ]
    },
    {
      "cell_type": "markdown",
      "source": [
        "Combine the 4 dataframes and export to csv "
      ],
      "metadata": {
        "id": "2sTTS1T2qRfL"
      }
    },
    {
      "cell_type": "code",
      "source": [
        "df = pnl_df.merge(data_df, left_on='Date', right_on='Date', how=\"right\")\n",
        "df = df.merge(vol_df, left_on='Date', right_on='Date', how=\"left\")\n",
        "df = df.merge(pnv_df, left_on='Date', right_on='Date', how=\"left\")\n",
        "df.columns\n",
        "\n"
      ],
      "metadata": {
        "colab": {
          "base_uri": "https://localhost:8080/"
        },
        "id": "NVpT15kDqacT",
        "outputId": "a08f9189-c181-45fa-82b2-e61babe65094"
      },
      "execution_count": 7,
      "outputs": [
        {
          "output_type": "execute_result",
          "data": {
            "text/plain": [
              "Index(['Date', 'PNL', 'STD_A', 'STD_B', 'STD_C', 'STD_D', 'STD_E', 'STD_F',\n",
              "       'STD_G', 'STD_Sum', 'STD_Total', 'Open_Vol', 'Perc_Change_Vol',\n",
              "       'Perc_Change_Price', 'Volume', 'Open_Int', 'Range'],\n",
              "      dtype='object')"
            ]
          },
          "metadata": {},
          "execution_count": 7
        }
      ]
    },
    {
      "cell_type": "code",
      "source": [
        "from google.colab import drive\n",
        "drive.mount('/content/drive')\n",
        "\n",
        "file_path = '/content/drive/MyDrive/dataframe.csv'\n",
        "df.to_csv(file_path, index=False)"
      ],
      "metadata": {
        "colab": {
          "base_uri": "https://localhost:8080/"
        },
        "id": "LpY5U8n0rCH5",
        "outputId": "62b53955-56a5-436f-9573-b26443fc38b9"
      },
      "execution_count": 8,
      "outputs": [
        {
          "output_type": "stream",
          "name": "stdout",
          "text": [
            "Drive already mounted at /content/drive; to attempt to forcibly remount, call drive.mount(\"/content/drive\", force_remount=True).\n"
          ]
        }
      ]
    }
  ]
}